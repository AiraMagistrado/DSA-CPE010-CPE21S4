{
  "nbformat": 4,
  "nbformat_minor": 0,
  "metadata": {
    "colab": {
      "provenance": []
    },
    "kernelspec": {
      "name": "python3",
      "display_name": "Python 3"
    },
    "language_info": {
      "name": "python"
    }
  },
  "cells": [
    {
      "cell_type": "code",
      "execution_count": null,
      "metadata": {
        "colab": {
          "base_uri": "https://localhost:8080/",
          "height": 35
        },
        "id": "5y0fyJqU_8Wc",
        "outputId": "951708c2-5068-46a3-d97e-1a76269a8f06"
      },
      "outputs": [
        {
          "output_type": "execute_result",
          "data": {
            "text/plain": [
              "'f'"
            ],
            "application/vnd.google.colaboratory.intrinsic+json": {
              "type": "string"
            }
          },
          "metadata": {},
          "execution_count": 4
        }
      ],
      "source": [
        "import array\n",
        "\n",
        "array.typecodes\n",
        "a = array.array('i',[1,2,3,4,5,6])\n",
        "b = array.array('f',[1.5,2.5,3.5,4.5,5.5,6.5])\n",
        "\n",
        "a.typecode\n",
        "b.typecode\n"
      ]
    },
    {
      "cell_type": "code",
      "source": [
        "from array import array\n",
        "a=array('i',[4,5,6,7])\n",
        "a.insert(1,2)\n",
        "a\n",
        "array('i',[4,2,5,6,7])\n",
        "a.insert(-1,0)\n",
        "a\n",
        "a.insert(10,-1)\n",
        "a\n",
        "array('i',[4,2,5,6,0,7,-1])"
      ],
      "metadata": {
        "colab": {
          "base_uri": "https://localhost:8080/"
        },
        "id": "WjeFkRs4BmKp",
        "outputId": "cc668467-21ae-4de5-f80b-4e493e1be6b1"
      },
      "execution_count": null,
      "outputs": [
        {
          "output_type": "execute_result",
          "data": {
            "text/plain": [
              "array('i', [4, 2, 5, 6, 0, 7, -1])"
            ]
          },
          "metadata": {},
          "execution_count": 5
        }
      ]
    },
    {
      "cell_type": "code",
      "source": [
        "class Node:\n",
        "  def __init__(self, data):\n",
        "    self.data= data\n",
        "    self.next= None\n",
        "    self.prev= None\n",
        "\n",
        "class LinkedList:\n",
        "  def __init__(self):\n",
        "    self.head= None"
      ],
      "metadata": {
        "id": "b7jIRl8OEtIZ"
      },
      "execution_count": null,
      "outputs": []
    },
    {
      "cell_type": "code",
      "source": [
        "class Node:\n",
        "\n",
        "  def __init__(self,data):\n",
        "    self.data=data\n",
        "    self.next=None\n",
        "\n",
        "class LinkedList:\n",
        "\n",
        "  def __init__(self):\n",
        "    self.head=None\n",
        "\n",
        "  def printdata(self):\n",
        "    temp = self.head\n",
        "    while(temp):\n",
        "      print(temp.data)\n",
        "      temp = temp.next\n",
        "\n",
        "if __name__=='__main__':\n",
        "\n",
        "  list = LinkedList()\n",
        "\n",
        "  list.head=Node(1)\n",
        "  second=Node(2)\n",
        "  third=Node(3)\n",
        "\n",
        "  list.head.next=second\n",
        "  second.next=third\n",
        "\n",
        "  list.printdata()"
      ],
      "metadata": {
        "colab": {
          "base_uri": "https://localhost:8080/"
        },
        "id": "DQulf4mvGEgx",
        "outputId": "365445bc-b794-4c0d-850b-e8c9f12606de"
      },
      "execution_count": null,
      "outputs": [
        {
          "output_type": "stream",
          "name": "stdout",
          "text": [
            "1\n",
            "2\n",
            "3\n"
          ]
        }
      ]
    },
    {
      "cell_type": "code",
      "source": [
        "def printdata(self):\n",
        "  temp = self.head\n",
        "  while(temp):\n",
        "    print(temp.data)\n",
        "temp = temp.next\n",
        "list.printdata()"
      ],
      "metadata": {
        "id": "Qq4HnAvxJvlg"
      },
      "execution_count": 2,
      "outputs": []
    },
    {
      "cell_type": "code",
      "source": [
        "class Node:\n",
        "   public:\n",
        "class Node:\n",
        "    def __init__(self, value):\n",
        "        self.value = value\n",
        "        self.next = None\n",
        "\n",
        "def main():\n",
        "    pass\n",
        "    Node* head ;\n",
        "    Node* one = NULL;\n",
        "    Node* two = NULL;\n",
        "    Node* three = NULL;\n",
        "\n",
        "    one = new Node();\n",
        "    two = new Node();\n",
        "    three = new Node();\n",
        "\n",
        "    one->value = 1;\n",
        "    two->value = 2;\n",
        "    three->value = 3;\n",
        "\n",
        "    one->next = two;\n",
        "    two->next = three;\n",
        "    three->next = NULL;\n",
        "\n",
        "    head = one;\n",
        "    while(head != NULL){\n",
        "        cout << head->value << endl;\n",
        "        head = head->next;\n",
        "    }\n",
        "    return 0;\n",
        "}\n"
      ],
      "metadata": {
        "colab": {
          "base_uri": "https://localhost:8080/",
          "height": 110
        },
        "id": "Zxke1U3vRcE5",
        "outputId": "9afbfcf5-56e3-44a5-ce69-fafe4f61a817"
      },
      "execution_count": 4,
      "outputs": [
        {
          "output_type": "error",
          "ename": "SyntaxError",
          "evalue": "unmatched '}' (<ipython-input-4-57434ce917f7>, line 33)",
          "traceback": [
            "\u001b[0;36m  File \u001b[0;32m\"<ipython-input-4-57434ce917f7>\"\u001b[0;36m, line \u001b[0;32m33\u001b[0m\n\u001b[0;31m    }\u001b[0m\n\u001b[0m    ^\u001b[0m\n\u001b[0;31mSyntaxError\u001b[0m\u001b[0;31m:\u001b[0m unmatched '}'\n"
          ]
        }
      ]
    }
  ]
}

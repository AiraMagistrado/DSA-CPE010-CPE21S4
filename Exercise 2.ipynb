{
  "nbformat": 4,
  "nbformat_minor": 0,
  "metadata": {
    "colab": {
      "provenance": []
    },
    "kernelspec": {
      "name": "python3",
      "display_name": "Python 3"
    },
    "language_info": {
      "name": "python"
    }
  },
  "cells": [
    {
      "cell_type": "markdown",
      "source": [
        "# **Exercise 2**"
      ],
      "metadata": {
        "id": "4onXQyU5f_zr"
      }
    },
    {
      "cell_type": "code",
      "execution_count": 5,
      "metadata": {
        "colab": {
          "base_uri": "https://localhost:8080/"
        },
        "id": "hZ-mHo9Lf7DD",
        "outputId": "fe94eac5-2f2a-4509-ac49-69fac9c97c43"
      },
      "outputs": [
        {
          "output_type": "stream",
          "name": "stdout",
          "text": [
            "The computed area of the Rectangle is: 28\n",
            "28\n",
            "The computed area of the Square is: 16\n",
            "16\n",
            "The computed area of the Triangle is: 48.0\n",
            "48.0\n"
          ]
        }
      ],
      "source": [
        "class Shapes:\n",
        "    def __init__(self, length, width, side, base, height):\n",
        "        self.length = length\n",
        "        self.width = width\n",
        "        self.side = side\n",
        "        self.base = base\n",
        "        self.height = height\n",
        "\n",
        "    def Area_Rectangle(self):\n",
        "        return self.length * self.width\n",
        "\n",
        "    def Area_Square(self):\n",
        "        return self.side * self.side\n",
        "\n",
        "    def Area_Triangle(self):\n",
        "        return self.base * self.height / 2\n",
        "\n",
        "class Rectangle(Shapes):\n",
        "    def __init__(self, length, width):\n",
        "        super().__init__(length, width, 0, 0, 0)\n",
        "\n",
        "    def Area_Rectangle(self):\n",
        "        area = super().Area_Rectangle()\n",
        "        print(\"The computed area of the Rectangle is:\", area)\n",
        "        return area\n",
        "\n",
        "class Square(Shapes):\n",
        "    def __init__(self, side):\n",
        "        super().__init__(0, 0, side, 0, 0)\n",
        "\n",
        "    def Area_Square(self):\n",
        "        area = super().Area_Square()\n",
        "        print(\"The computed area of the Square is:\", area)\n",
        "        return area\n",
        "\n",
        "class Triangle(Shapes):\n",
        "    def __init__(self, base, height):\n",
        "        super().__init__(0, 0, 0, base, height)\n",
        "\n",
        "    def Area_Triangle(self):\n",
        "        area = super().Area_Triangle()\n",
        "        print(\"The computed area of the Triangle is:\", area)\n",
        "        return area\n",
        "\n",
        "rectangle = Rectangle(7, 4)\n",
        "print(rectangle.Area_Rectangle())\n",
        "\n",
        "square = Square(4)\n",
        "print(square.Area_Square())\n",
        "\n",
        "triangle = Triangle(8, 12)\n",
        "print(triangle.Area_Triangle())"
      ]
    }
  ]
}

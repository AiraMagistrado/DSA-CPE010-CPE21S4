{
  "nbformat": 4,
  "nbformat_minor": 0,
  "metadata": {
    "colab": {
      "provenance": []
    },
    "kernelspec": {
      "name": "python3",
      "display_name": "Python 3"
    },
    "language_info": {
      "name": "python"
    }
  },
  "cells": [
    {
      "cell_type": "code",
      "source": [
        "#Accessing the elements in the Array\n",
        "animals= [\"cat\", \"dog\", \"fish\"]\n",
        "x = animals [0]\n",
        "print(x)"
      ],
      "metadata": {
        "colab": {
          "base_uri": "https://localhost:8080/"
        },
        "id": "XQhz1sQGxb-w",
        "outputId": "13f8e111-3027-4769-b12a-452754466b55"
      },
      "execution_count": null,
      "outputs": [
        {
          "output_type": "stream",
          "name": "stdout",
          "text": [
            "cat\n"
          ]
        }
      ]
    },
    {
      "cell_type": "code",
      "source": [
        "#Modifying elements in the Array\n",
        "animals= [\"cat\", \"dog\", \"fish\"]\n",
        "animals [0] = 'monkey'\n",
        "x = animals [0]\n",
        "\n",
        "print(animals)"
      ],
      "metadata": {
        "colab": {
          "base_uri": "https://localhost:8080/"
        },
        "id": "FtwS-0HsxwaZ",
        "outputId": "44349eb8-d3a1-4a46-a7b3-e9fe94ab409d"
      },
      "execution_count": null,
      "outputs": [
        {
          "output_type": "stream",
          "name": "stdout",
          "text": [
            "['monkey', 'dog', 'fish']\n"
          ]
        }
      ]
    },
    {
      "cell_type": "code",
      "source": [
        "#Length of the array\n",
        "animals =['cat', 'monkey', 'dog', 'fish']\n",
        "animals[0] = 'monkey'\n",
        "x = len(animals)\n",
        "print(x)"
      ],
      "metadata": {
        "id": "V3I19ghw3I8_",
        "colab": {
          "base_uri": "https://localhost:8080/"
        },
        "outputId": "6fa8b828-dbb8-4fd1-c052-db8b247aa85d"
      },
      "execution_count": null,
      "outputs": [
        {
          "output_type": "stream",
          "name": "stdout",
          "text": [
            "4\n"
          ]
        }
      ]
    },
    {
      "cell_type": "code",
      "source": [
        "#looping array elements\n",
        "animals= ['monkey', 'cat','dog','fish']\n",
        "for x in animals:\n",
        "  print(x)"
      ],
      "metadata": {
        "id": "FmnmiqCUzp5Z",
        "colab": {
          "base_uri": "https://localhost:8080/"
        },
        "outputId": "e82e274b-0d4d-41ae-afc1-6382f5567049"
      },
      "execution_count": null,
      "outputs": [
        {
          "output_type": "stream",
          "name": "stdout",
          "text": [
            "monkey\n",
            "cat\n",
            "dog\n",
            "fish\n"
          ]
        }
      ]
    },
    {
      "cell_type": "code",
      "source": [
        "#adding item in the animals\n",
        "animals= ['monkey', 'cat', 'dog', 'fish']\n",
        "animals.append('bird')\n",
        "print(animals)"
      ],
      "metadata": {
        "colab": {
          "base_uri": "https://localhost:8080/"
        },
        "id": "t4-_WIpP1rah",
        "outputId": "8f677bfc-39df-47a6-b20c-e4d49a68d02d"
      },
      "execution_count": null,
      "outputs": [
        {
          "output_type": "stream",
          "name": "stdout",
          "text": [
            "['monkey', 'cat', 'dog', 'fish', 'bird']\n"
          ]
        }
      ]
    },
    {
      "cell_type": "code",
      "source": [
        "#remove an item in the array lists\n",
        "animals = ['monkey', 'cat', 'dog','fish']\n",
        "animals.pop(2)\n",
        "print(animals)"
      ],
      "metadata": {
        "colab": {
          "base_uri": "https://localhost:8080/"
        },
        "id": "-nZgewsd3B71",
        "outputId": "2d4979eb-774e-46d7-ab5b-3bbb93d18768"
      },
      "execution_count": null,
      "outputs": [
        {
          "output_type": "stream",
          "name": "stdout",
          "text": [
            "['monkey', 'cat', 'fish']\n"
          ]
        }
      ]
    },
    {
      "cell_type": "code",
      "source": [
        "#Inserting an animal in a specific location using insert()\n",
        "animals = ['monkey', 'cat', 'dog','fish']\n",
        "animals.insert(4,'bird')\n",
        "print(animals)"
      ],
      "metadata": {
        "id": "xCfEXvji4kgi",
        "colab": {
          "base_uri": "https://localhost:8080/"
        },
        "outputId": "0b5f32a1-12fc-4880-8eeb-72c6f7848619"
      },
      "execution_count": 5,
      "outputs": [
        {
          "output_type": "stream",
          "name": "stdout",
          "text": [
            "['monkey', 'cat', 'dog', 'fish', 'bird']\n"
          ]
        }
      ]
    },
    {
      "cell_type": "code",
      "source": [
        "#Remove the item in the specified index value using remove()\n",
        "animals = ['monkey', 'cat', 'dog','fish']\n",
        "animals.remove('fish')\n",
        "print(animals)"
      ],
      "metadata": {
        "id": "-Oal1bF94qxe",
        "colab": {
          "base_uri": "https://localhost:8080/"
        },
        "outputId": "330a6151-fe27-4a7a-cb27-30cf28bf418a"
      },
      "execution_count": 6,
      "outputs": [
        {
          "output_type": "stream",
          "name": "stdout",
          "text": [
            "['monkey', 'cat', 'dog']\n"
          ]
        }
      ]
    },
    {
      "cell_type": "code",
      "source": [
        "#Reverse all items\n",
        "animals = ['monkey', 'cat', 'dog','fish']\n",
        "animals.reverse()\n",
        "print(animals)"
      ],
      "metadata": {
        "id": "_MRwpsBc4wx0",
        "colab": {
          "base_uri": "https://localhost:8080/"
        },
        "outputId": "3eda2554-838b-454f-a4c9-9d6893004ad4"
      },
      "execution_count": 4,
      "outputs": [
        {
          "output_type": "stream",
          "name": "stdout",
          "text": [
            "['fish', 'dog', 'cat', 'monkey']\n"
          ]
        }
      ]
    }
  ]
}

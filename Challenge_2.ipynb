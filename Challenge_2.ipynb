{
  "nbformat": 4,
  "nbformat_minor": 0,
  "metadata": {
    "colab": {
      "provenance": []
    },
    "kernelspec": {
      "name": "python3",
      "display_name": "Python 3"
    },
    "language_info": {
      "name": "python"
    }
  },
  "cells": [
    {
      "cell_type": "markdown",
      "source": [
        "# **Challenge 2: Coin Flip**"
      ],
      "metadata": {
        "id": "hdKN-lSkWt1v"
      }
    },
    {
      "cell_type": "markdown",
      "source": [
        "Create a function coin flip() that simulates coin flips repeated n times, with 0 representing tails and 1 representing heads. Make the function a generator with the parameter n as the number of coin flips.\n",
        "\n",
        "Use the numpy library as np and the function of np.random.randint() in order to simulate a coin flip. After defining this function, return the result as a List using List Comprehension discussed previously."
      ],
      "metadata": {
        "id": "EoCfki8sWz8l"
      }
    },
    {
      "cell_type": "code",
      "execution_count": null,
      "metadata": {
        "colab": {
          "base_uri": "https://localhost:8080/"
        },
        "id": "DdwLzFpKVdom",
        "outputId": "4e32130e-2153-46d1-da34-70b6e8a40005"
      },
      "outputs": [
        {
          "output_type": "stream",
          "name": "stdout",
          "text": [
            "[0, 1, 0, 0, 1, 1, 1, 0, 1, 0]\n"
          ]
        }
      ],
      "source": [
        "import numpy as np\n",
        "\n",
        "def coin_flip(n):\n",
        " for _ in range(n):\n",
        "        yield np.random.randint(0, 2)\n",
        "\n",
        "print([var for var in coin_flip(10)])"
      ]
    }
  ]
}